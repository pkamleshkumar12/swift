{
 "cells": [
  {
   "cell_type": "code",
   "execution_count": 1,
   "id": "c20b5535",
   "metadata": {},
   "outputs": [],
   "source": [
    "import os\n",
    "os.environ[\"TF_CPP_MIN_LOG_LEVEL\"] = \"2\""
   ]
  },
  {
   "cell_type": "code",
   "execution_count": 2,
   "id": "7d347c3c",
   "metadata": {},
   "outputs": [],
   "source": [
    "import tensorflow_hub as hub"
   ]
  },
  {
   "cell_type": "code",
   "execution_count": 3,
   "id": "cad0bd14",
   "metadata": {},
   "outputs": [],
   "source": [
    "import tensorflow as tf\n",
    "from tensorflow import keras\n",
    "from tensorflow.keras import layers\n",
    "from tensorflow.keras.datasets import mnist"
   ]
  },
  {
   "cell_type": "code",
   "execution_count": 4,
   "id": "413c4e0c",
   "metadata": {},
   "outputs": [],
   "source": [
    "# To Avoid GPU errors\n",
    "physical_devices = tf.config.list_physical_devices(\"GPU\")\n",
    "tf.config.experimental.set_memory_growth(physical_devices[0], True)"
   ]
  },
  {
   "cell_type": "code",
   "execution_count": 5,
   "id": "820c6b7e",
   "metadata": {},
   "outputs": [
    {
     "data": {
      "text/plain": [
       "[PhysicalDevice(name='/physical_device:GPU:0', device_type='GPU')]"
      ]
     },
     "execution_count": 5,
     "metadata": {},
     "output_type": "execute_result"
    }
   ],
   "source": [
    "physical_devices"
   ]
  },
  {
   "cell_type": "code",
   "execution_count": 6,
   "id": "bb724f00",
   "metadata": {},
   "outputs": [],
   "source": [
    "(x_train, y_train), (x_test, y_test) = mnist.load_data()"
   ]
  },
  {
   "cell_type": "code",
   "execution_count": 7,
   "id": "42409ea5",
   "metadata": {},
   "outputs": [],
   "source": [
    "x_train = x_train.reshape(-1, 28 * 28).astype(\"float32\") / 255.0"
   ]
  },
  {
   "cell_type": "code",
   "execution_count": 8,
   "id": "31b70562",
   "metadata": {},
   "outputs": [],
   "source": [
    "x_test = x_test.reshape(-1, 28 * 28).astype(\"float32\") / 255.0"
   ]
  },
  {
   "cell_type": "markdown",
   "id": "a87b1c9c",
   "metadata": {},
   "source": [
    "#### Save and load entire model (Serializing model)\n",
    "- Save weights\n",
    "- Model architecture\n",
    "- Training Configuration (model.conmpile())\n",
    "- Optimizer and states"
   ]
  },
  {
   "cell_type": "code",
   "execution_count": 9,
   "id": "8f5ca109",
   "metadata": {},
   "outputs": [],
   "source": [
    "model1 = keras.Sequential(\n",
    "    [\n",
    "        layers.Dense(64, activation='relu'),\n",
    "        layers.Dense(10)\n",
    "    ]\n",
    ")"
   ]
  },
  {
   "cell_type": "code",
   "execution_count": 10,
   "id": "aaa19860",
   "metadata": {},
   "outputs": [],
   "source": [
    "inputs = keras.Input(784)\n",
    "x = layers.Dense(64, activation='relu')(inputs)\n",
    "outputs = layers.Dense(10)(x)\n",
    "model2 = keras.Model(inputs=inputs, outputs=outputs)"
   ]
  },
  {
   "cell_type": "code",
   "execution_count": 11,
   "id": "d5e79a45",
   "metadata": {},
   "outputs": [],
   "source": [
    "class MyModel(keras.Model):\n",
    "    def __init__(self):\n",
    "        super(MyModel, self).__init__()\n",
    "        self.dense1 = layers.Dense(64, activation='relu')\n",
    "        self.dense2 = layers.Dense(10)\n",
    "        \n",
    "    def call(self, input_tensor):\n",
    "        x = tf.nn.relu(self.dense1(input_tensor))\n",
    "        return self.dense2(x)"
   ]
  },
  {
   "cell_type": "code",
   "execution_count": 12,
   "id": "742e61b0",
   "metadata": {},
   "outputs": [],
   "source": [
    "model3 = MyModel()"
   ]
  },
  {
   "cell_type": "code",
   "execution_count": 13,
   "id": "03e14a04",
   "metadata": {},
   "outputs": [],
   "source": [
    "model = model1"
   ]
  },
  {
   "cell_type": "code",
   "execution_count": 14,
   "id": "9f1d3683",
   "metadata": {},
   "outputs": [],
   "source": [
    "model.compile(\n",
    "    loss=keras.losses.SparseCategoricalCrossentropy(from_logits=True),\n",
    "    optimizer=keras.optimizers.Adam(),\n",
    "    metrics=[\"accuracy\"],\n",
    ")"
   ]
  },
  {
   "cell_type": "code",
   "execution_count": 15,
   "id": "784b23eb",
   "metadata": {},
   "outputs": [
    {
     "name": "stdout",
     "output_type": "stream",
     "text": [
      "Epoch 1/2\n",
      "1875/1875 - 5s - loss: 0.2986 - accuracy: 0.9157\n",
      "Epoch 2/2\n",
      "1875/1875 - 4s - loss: 0.1459 - accuracy: 0.9573\n",
      "313/313 - 1s - loss: 0.1307 - accuracy: 0.9617\n"
     ]
    },
    {
     "data": {
      "text/plain": [
       "[0.1307150274515152, 0.9617000222206116]"
      ]
     },
     "execution_count": 15,
     "metadata": {},
     "output_type": "execute_result"
    }
   ],
   "source": [
    "model.fit(x_train, y_train, batch_size=32, epochs=2, verbose=2)\n",
    "model.evaluate(x_test, y_test, batch_size=32, verbose=2)"
   ]
  },
  {
   "cell_type": "code",
   "execution_count": 16,
   "id": "cc6afbab",
   "metadata": {},
   "outputs": [],
   "source": [
    "model.save(\"..\"+os.sep+\"models\"+os.sep+\"trained-model\"+os.sep+\"transferLearningMnistSeq\", save_format='h5')"
   ]
  },
  {
   "cell_type": "code",
   "execution_count": 17,
   "id": "fb4976b8",
   "metadata": {},
   "outputs": [
    {
     "name": "stdout",
     "output_type": "stream",
     "text": [
      "Epoch 1/2\n",
      "1875/1875 - 4s - loss: 0.1071 - accuracy: 0.9679\n",
      "Epoch 2/2\n",
      "1875/1875 - 4s - loss: 0.0808 - accuracy: 0.9760\n",
      "313/313 - 1s - loss: 0.0974 - accuracy: 0.9715\n"
     ]
    },
    {
     "data": {
      "text/plain": [
       "[0.09743396192789078, 0.9714999794960022]"
      ]
     },
     "execution_count": 17,
     "metadata": {},
     "output_type": "execute_result"
    }
   ],
   "source": [
    "# load model \n",
    "model.load_weights(\"..\"+os.sep+\"models\"+os.sep+\"trained-model\"+os.sep+\"transferLearningMnistSeq\")\n",
    "model.compile(\n",
    "    loss=keras.losses.SparseCategoricalCrossentropy(from_logits=True),\n",
    "    optimizer=keras.optimizers.Adam(),\n",
    "    metrics=[\"accuracy\"],\n",
    ")\n",
    "model.fit(x_train, y_train, batch_size=32, epochs=2, verbose=2)\n",
    "model.evaluate(x_test, y_test, batch_size=32, verbose=2)"
   ]
  },
  {
   "cell_type": "code",
   "execution_count": 18,
   "id": "f5d619ac",
   "metadata": {},
   "outputs": [],
   "source": [
    "model.save(\"..\"+os.sep+\"models\"+os.sep+\"trained-model\"+os.sep+\"transferLearningMnistSeq\", save_format='h5')"
   ]
  },
  {
   "cell_type": "code",
   "execution_count": 19,
   "id": "1729bbd8",
   "metadata": {},
   "outputs": [],
   "source": [
    "# load model using keras.models.load_model, no need to model.compile\n",
    "\n",
    "model = keras.models.load_model(\"..\"+os.sep+\"models\"+os.sep+\"trained-model\"+os.sep+\"transferLearningMnistSeq\")"
   ]
  },
  {
   "cell_type": "code",
   "execution_count": 20,
   "id": "a4fcb0dc",
   "metadata": {},
   "outputs": [
    {
     "name": "stdout",
     "output_type": "stream",
     "text": [
      "Epoch 1/2\n",
      "1875/1875 - 4s - loss: 0.0658 - accuracy: 0.9798\n",
      "Epoch 2/2\n",
      "1875/1875 - 4s - loss: 0.0542 - accuracy: 0.9835\n",
      "313/313 - 1s - loss: 0.0897 - accuracy: 0.9734\n"
     ]
    }
   ],
   "source": [
    "model.fit(x_train, y_train, batch_size=32, epochs=2, verbose=2)\n",
    "model.evaluate(x_test, y_test, batch_size=32, verbose=2)\n",
    "model = keras.models.load_model(\"..\"+os.sep+\"models\"+os.sep+\"trained-model\"+os.sep+\"transferLearningMnistSeq\")"
   ]
  },
  {
   "cell_type": "code",
   "execution_count": null,
   "id": "098e3cd4",
   "metadata": {},
   "outputs": [],
   "source": []
  }
 ],
 "metadata": {
  "kernelspec": {
   "display_name": "swift env core",
   "language": "python",
   "name": "swift-env"
  },
  "language_info": {
   "codemirror_mode": {
    "name": "ipython",
    "version": 3
   },
   "file_extension": ".py",
   "mimetype": "text/x-python",
   "name": "python",
   "nbconvert_exporter": "python",
   "pygments_lexer": "ipython3",
   "version": "3.6.13"
  }
 },
 "nbformat": 4,
 "nbformat_minor": 5
}
